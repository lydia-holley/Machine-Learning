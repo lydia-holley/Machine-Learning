{
 "cells": [
  {
   "cell_type": "markdown",
   "id": "6abb6de9",
   "metadata": {},
   "source": [
    "Lydia Holley\n",
    "\n",
    "lholley4@uncc.edu\n",
    "\n",
    "Assignment 3"
   ]
  },
  {
   "cell_type": "code",
   "execution_count": 1,
   "id": "c4dcca26",
   "metadata": {},
   "outputs": [],
   "source": [
    "# import all the needed packages\n",
    "import os\n",
    "import sys\n",
    "\n",
    "import numpy as np\n",
    "import matplotlib.pyplot as plt\n",
    "import pandas as pd\n",
    "from scipy.stats import f\n",
    "import matplotlib.patches as mpatches"
   ]
  },
  {
   "cell_type": "markdown",
   "id": "7e06e721",
   "metadata": {},
   "source": [
    "1. Linear regression\n",
    "\n",
    "    Use x and y in linear regression test data.csv for writing and debugging your code. For both of the Python classes you implement, return the intercept θ0, the coefficient θ1, the R2 value, the F statistic and the associated p-value."
   ]
  },
  {
   "cell_type": "markdown",
   "id": "5dedc397",
   "metadata": {},
   "source": [
    "(a) (20 points) Implement a Python class to do linear regression using the analytical solution to\n",
    "least-squared problems."
   ]
  },
  {
   "cell_type": "code",
   "execution_count": 2,
   "id": "15f3b413",
   "metadata": {},
   "outputs": [],
   "source": [
    "# create the class for analytical SLR\n",
    "class analytical_slr:\n",
    "    \n",
    "    # initialize the necesary data\n",
    "    def __init__(self,data,standardize=False):\n",
    "        \n",
    "        self.data = data\n",
    "        self.standardize = standardize\n",
    "        self.standardized = None\n",
    "        self.X = None\n",
    "        self.Y = None\n",
    "        self.n = None\n",
    "        self.b1hat = None\n",
    "        self.sstot = None\n",
    "        self.ssreg = None\n",
    "        self.sserr = None\n",
    "        self.mstot = None\n",
    "        self.msreg = None\n",
    "        self.mserr = None\n",
    "        self.Fstat = None\n",
    "        self.R2 = None\n",
    "        self.p_value = None\n",
    "    \n",
    "    # standardize if desired\n",
    "    # or get the means and separate x y data\n",
    "    # get size of data n\n",
    "    def fit(self):\n",
    "\n",
    "        data_mean = np.mean(self.data,axis=0)\n",
    "        std_dev = np.std(self.data,axis=0)\n",
    "        \n",
    "        # if user requested standardized\n",
    "        if self.standardize == True:\n",
    "            self.X = (self.data[:,0] - data_mean[0])/std_dev[0]\n",
    "            self.Y = (self.data[:,1] - data_mean[1])/std_dev[1]\n",
    "            self.data = np.vstack((self.X,self.Y)).T\n",
    "        \n",
    "        # if user wants to use non standardized data\n",
    "        elif self.standardize == False:\n",
    "            self.X = self.data[:,0]\n",
    "            self.Y = self.data[:,1]\n",
    "        \n",
    "        self.xbar = data_mean[0]\n",
    "        self.ybar = data_mean[1]\n",
    "        \n",
    "        self.n = len(self.data)\n",
    "\n",
    "    # in this function, find all the necesary data and return the asked for values\n",
    "    def predict(self):\n",
    "        \n",
    "        # first use cov and var to get the beta 1 hat\n",
    "        cov_matrix = np.cov(self.data, rowvar=False)\n",
    "        covariance = float(cov_matrix[1:,:1])\n",
    "        variance = float(cov_matrix[0,0])\n",
    "        self.b1hat = covariance/variance\n",
    "        \n",
    "        # find beta 0 hat and use the betas to find yhat\n",
    "        self.b0hat = self.ybar - (self.b1hat*self.xbar)        \n",
    "        self.yhat = self.b0hat + (self.b1hat*self.X)\n",
    "        \n",
    "        # find the sum of squares data\n",
    "        self.sstot = np.sum((self.Y-self.ybar)**2)       \n",
    "        self.ssreg = np.sum((self.yhat-self.ybar)**2)        \n",
    "        self.sserr = np.sum((self.Y-self.yhat)**2)\n",
    "        \n",
    "        # find the mean sum of squares data\n",
    "        self.mstot = self.sstot/(self.n - 1)        \n",
    "        self.msreg = self.ssreg/1        \n",
    "        self.mserr = self.sserr/(self.n - 2)\n",
    "        \n",
    "        # find F statistic, R2, and P values\n",
    "        self.Fstat = self.msreg/self.mserr        \n",
    "        self.R2 = self.ssreg/self.sstot       \n",
    "        self.p_value = f.sf(self.Fstat, 1, (self.n - 2))\n",
    "        \n",
    "        # return answers\n",
    "        answers = print(\"Intercept: \" + str(self.b0hat) + \"\\nCoefficient: \" + str(self.b1hat) + \"\\nR2: \" + str(self.R2) + \"\\nF Statistic: \" + str(self.Fstat) + \"\\nP-value: \" + str(self.p_value))\n",
    "        \n",
    "        return answers\n"
   ]
  },
  {
   "cell_type": "code",
   "execution_count": 3,
   "id": "ed776f5d",
   "metadata": {},
   "outputs": [],
   "source": [
    "# read in the dataset, only need x and y for this\n",
    "data = pd.read_csv('linear_regression_test_data.csv',index_col = 0)\n",
    "data = data[['x','y']]\n",
    "data = data.to_numpy()"
   ]
  },
  {
   "cell_type": "code",
   "execution_count": 4,
   "id": "b41dddd8",
   "metadata": {},
   "outputs": [
    {
     "name": "stdout",
     "output_type": "stream",
     "text": [
      "Intercept: 0.024525025871305117\n",
      "Coefficient: 1.934005885001058\n",
      "R2: 0.9292357328496265\n",
      "F Statistic: 236.36566680963753\n",
      "P-value: 8.52900501738634e-12\n"
     ]
    }
   ],
   "source": [
    "# call the class and the functions within to get requested data\n",
    "test = analytical_slr(data)\n",
    "fit = test.fit()\n",
    "predict = test.predict()"
   ]
  },
  {
   "cell_type": "code",
   "execution_count": 5,
   "id": "dc05f5e5",
   "metadata": {},
   "outputs": [],
   "source": [
    "# Answers\n",
    "# Intercept: 0.024525025871305117\n",
    "# Coefficient: 1.934005885001058\n",
    "# R2: 0.9292357328496265\n",
    "# F Statistic: 236.36566680963753\n",
    "# P-value: 8.52900501738634e-12"
   ]
  },
  {
   "cell_type": "markdown",
   "id": "6991cf52",
   "metadata": {},
   "source": [
    "(b) (30 points) Implement a Python class for gradient descent-based linear regression. Use ∆J =\n",
    "0.00001 as the stopping criterion."
   ]
  },
  {
   "cell_type": "code",
   "execution_count": 6,
   "id": "d74bd780",
   "metadata": {},
   "outputs": [],
   "source": [
    "# create the class for gradient descent-based SLR\n",
    "class gradient_slr:\n",
    "    \n",
    "    # initialize necesary data\n",
    "    def __init__(self, data, theta0=0, theta1=0, alpha=0.05, standardize=False):\n",
    "\n",
    "        self.data = data\n",
    "        self.theta0 = theta0\n",
    "        self.theta1 = theta1\n",
    "        self.alpha = alpha\n",
    "        self.standardize = standardize\n",
    "        self.X = None\n",
    "        self.Y = None\n",
    "        self.xbar = None\n",
    "        self.ybar = None\n",
    "        self.standardized = None\n",
    "        self.iterations = None\n",
    "        self.cost_new = None\n",
    "        self.cost_init = None\n",
    "        self.R2 = None\n",
    "        self.Fstat = None\n",
    "        self.p_value = None\n",
    "        self.sstot = None\n",
    "        self.ssreg = None\n",
    "        self.sserr = None\n",
    "        self.mstot = None\n",
    "        self.msreg = None\n",
    "        self.mserr = None\n",
    "        self.Fstat = None\n",
    "    \n",
    "    # standardize if desired\n",
    "    # or get the means and separate x y data\n",
    "    # get size of data n    \n",
    "    def fit(self):\n",
    "        \n",
    "        data_mean = np.mean(self.data,axis=0)\n",
    "        std_dev = np.std(self.data,axis=0)\n",
    "        \n",
    "        # if user requested standardized\n",
    "        if self.standardize == True:\n",
    "            self.X = (self.data[:,0] - data_mean[0])/std_dev[0]\n",
    "            self.Y = (self.data[:,1] - data_mean[1])/std_dev[1]\n",
    "            self.data = np.vstack((self.X,self.Y)).T\n",
    "        \n",
    "        # if user requested not standardized\n",
    "        elif self.standardize == False:\n",
    "            self.X = self.data[:,0]\n",
    "            self.Y = self.data[:,1]\n",
    "        \n",
    "        self.xbar = data_mean[0]\n",
    "        self.ybar = data_mean[1]\n",
    "        \n",
    "        self.n = len(self.data)\n",
    "\n",
    "    # in this function, find all the necesary data and return the asked for values    \n",
    "    def predict(self):\n",
    "        \n",
    "        stop = False\n",
    "        iteration = 0\n",
    "         \n",
    "        while stop == False:\n",
    "\n",
    "            #keep track of iterations\n",
    "            iteration += 1\n",
    "                \n",
    "            #find initial cost\n",
    "            ri_init = self.theta0 + (self.theta1*self.X) - self.Y\n",
    "\n",
    "            r2_init = np.sum(ri_init**2)\n",
    "\n",
    "            cost_init = r2_init/(2*self.n)\n",
    "\n",
    "            #find step values\n",
    "            step0 = np.sum(ri_init)/self.n\n",
    "\n",
    "            step1 = np.sum(ri_init*self.X)/self.n\n",
    "\n",
    "            #find new thetas based on steps\n",
    "            self.theta0 -= (self.alpha*step0)\n",
    "\n",
    "            self.theta1 -= (self.alpha*step1)\n",
    "            \n",
    "            #find new cost\n",
    "            ri_new = self.theta0 + (self.theta1*self.X) - self.Y\n",
    "\n",
    "            r2_new = np.sum(ri_new**2)\n",
    "\n",
    "            cost_new = r2_new/(2*self.n) \n",
    "            \n",
    "            #find cost difference\n",
    "            cost_diff = cost_init - cost_new\n",
    "            \n",
    "            #if cost difference meets criteria, store data and move on\n",
    "            if cost_diff <= 0.00001:\n",
    "                self.iterations = iteration\n",
    "                self.cost_new = cost_new\n",
    "                self.cost_init = cost_init\n",
    "                stop = True\n",
    "        \n",
    "        #find hypothesis value\n",
    "        self.hypothesis = self.theta0 + (self.theta1*self.X)\n",
    "        \n",
    "        #find sum of squares values\n",
    "        self.sstot = np.sum((self.Y-self.ybar)**2)        \n",
    "        self.ssreg = np.sum((self.hypothesis-self.ybar)**2)       \n",
    "        self.sserr = np.sum((self.Y-self.hypothesis)**2)\n",
    "        \n",
    "        #find mean sum of squares values\n",
    "        self.mstot = self.sstot/(self.n - 1)        \n",
    "        self.msreg = self.ssreg/1       \n",
    "        self.mserr = self.sserr/(self.n - 2)\n",
    "        \n",
    "        #find F statistic, R2, and P values\n",
    "        self.Fstat = self.msreg/self.mserr       \n",
    "        self.R2 = self.ssreg/self.sstot        \n",
    "        self.p_value = f.sf(self.Fstat, 1, (self.n - 2))\n",
    "        \n",
    "        #return answers\n",
    "        return f'Intercept: {self.theta0}', f'Coefficient: {self.theta1}', f'R2: {self.R2}', f'F Statistics: {self.Fstat}', f'P-Value: {self.p_value}', f'Number of iterations: {self.iterations}'\n",
    "            \n"
   ]
  },
  {
   "cell_type": "code",
   "execution_count": 7,
   "id": "4ca044bb",
   "metadata": {},
   "outputs": [],
   "source": [
    "#read in the dataset\n",
    "data2 = pd.read_csv('linear_regression_test_data.csv',index_col = 0)\n",
    "data2 = data2[['x','y']]\n",
    "data2 = data2.to_numpy()"
   ]
  },
  {
   "cell_type": "code",
   "execution_count": 8,
   "id": "a077aae7",
   "metadata": {},
   "outputs": [],
   "source": [
    "#call the class and functions to get requested data\n",
    "test2 = gradient_slr(data2)\n",
    "fit2 = test2.fit()\n",
    "predict2 = test2.predict()"
   ]
  },
  {
   "cell_type": "code",
   "execution_count": 9,
   "id": "17430376",
   "metadata": {},
   "outputs": [
    {
     "data": {
      "text/plain": [
       "('Intercept: 0.038678951631553125',\n",
       " 'Coefficient: 1.9245430996889048',\n",
       " 'R2: 0.9201897516236642',\n",
       " 'F Statistics: 233.908575686262',\n",
       " 'P-Value: 9.3107035206637e-12',\n",
       " 'Number of iterations: 100')"
      ]
     },
     "execution_count": 9,
     "metadata": {},
     "output_type": "execute_result"
    }
   ],
   "source": [
    "predict2"
   ]
  },
  {
   "cell_type": "code",
   "execution_count": 10,
   "id": "d6b1e204",
   "metadata": {},
   "outputs": [],
   "source": [
    "# Answers\n",
    "# ('Intercept: 0.038678951631553125',\n",
    "#  'Coefficient: 1.9245430996889048',\n",
    "#  'R2: 0.9201897516236642',\n",
    "#  'F Statistics: 233.908575686262',\n",
    "#  'P-Value: 9.3107035206637e-12',\n",
    "#  'Number of iterations: 100')"
   ]
  },
  {
   "cell_type": "code",
   "execution_count": 11,
   "id": "d8245d82",
   "metadata": {},
   "outputs": [],
   "source": [
    "# item of note:\n",
    "# if I change the diff_cost cutoff to 0.00000001, the numbers are much closer to the analytical slr\n",
    "\n",
    "# ('Intercept: 0.024979014449902477',\n",
    "#  'Coefficient: 1.9337238230452056',\n",
    "#  'R2: 0.9289647335775363',\n",
    "#  'F Statistics: 236.29657866360188',\n",
    "#  'P-Value: 8.549961480400911e-12',\n",
    "#  'Number of iterations: 185')\n"
   ]
  },
  {
   "cell_type": "markdown",
   "id": "4e8c5e24",
   "metadata": {},
   "source": [
    "---------"
   ]
  },
  {
   "cell_type": "markdown",
   "id": "20654de7",
   "metadata": {},
   "source": [
    "2. PCA and linear regression"
   ]
  },
  {
   "cell_type": "code",
   "execution_count": 12,
   "id": "379c389c",
   "metadata": {},
   "outputs": [],
   "source": [
    "#input my pca class\n",
    "class myPCA:\n",
    "    \n",
    "    def __init__(self, data, num_components):\n",
    "        # two inputs, one is the data and the other is the number of PCAs desired\n",
    "        # I found this to be the easiest way to call the class\n",
    "\n",
    "        self.data = data\n",
    "        self.num_components = num_components\n",
    "        \n",
    "        # these following values need to be initialized so they can be stored as part of the class\n",
    "        # this makes it possible to call on these values even from different class methods\n",
    "        self.eigenvectors = None\n",
    "        self.eigenvalues = None\n",
    "        self.data_mean = None\n",
    "        self.new_data = None\n",
    "        self.projected = None\n",
    "        self.pcnt_var = None\n",
    "        self.variance = None\n",
    "        \n",
    "    def my_fit(self):\n",
    "        # do mean centering\n",
    "        self.data_mean = np.mean(self.data,axis=0)\n",
    "        self.new_data = self.data - self.data_mean\n",
    "        \n",
    "        # compute covariance matrix using numpy.cov()\n",
    "        # for np.cov the columns need to be samples, so transpose the data\n",
    "        cov_matrix = np.cov(self.new_data.transpose()) \n",
    "        \n",
    "        # perform eigendecomposition using np.linalg.eig()\n",
    "        eigenvalues,eigenvectors = np.linalg.eigh(cov_matrix)\n",
    "        \n",
    "        # sort eigenvectors and eigenvalues for the PCA\n",
    "        eigenvectors = eigenvectors.transpose()\n",
    "        index = np.argsort(eigenvalues)[::-1]\n",
    "        eigenvalues_sorted = eigenvalues[index]\n",
    "        eigenvectors_sorted = eigenvectors[index]\n",
    "        \n",
    "        #store first num_components eigenvectors and eigenvalues\n",
    "        self.eigenvectors = eigenvectors_sorted[0:self.num_components]\n",
    "        self.eigenvalues = eigenvalues_sorted[0:self.num_components]\n",
    "        \n",
    "    def my_transform(self):\n",
    "        #project the data onto the principle components of the number of components\n",
    "        self.projected = np.dot(self.new_data,self.eigenvectors.transpose())\n",
    "        return self.projected\n",
    "    \n",
    "    def my_fit_transform(self):\n",
    "        # combine fit and transform methods to be able to do all at once\n",
    "        # do mean centering\n",
    "        self.data_mean = np.mean(self.data,axis=0)\n",
    "        self.new_data = self.data - self.data_mean\n",
    "        \n",
    "        # compute covariance matrix using numpy.cov()\n",
    "        #row = 1 sample, column = feature\n",
    "        cov_matrix = np.cov(self.new_data.transpose()) #this function needs column to be a sample\n",
    "        \n",
    "        # perform eigendecomposition\n",
    "        eigenvalues,eigenvectors = np.linalg.eigh(cov_matrix)\n",
    "        \n",
    "        # sort eigenvectors for the PCA\n",
    "        eigenvectors = eigenvectors.transpose()\n",
    "        index = np.argsort(eigenvalues)[::-1]\n",
    "        eigenvalues_sorted = eigenvalues[index]\n",
    "        eigenvectors_sorted = eigenvectors[index]\n",
    "        \n",
    "        #store first n eigenvectors and eigenvalues\n",
    "        self.eigenvectors = eigenvectors_sorted[0:self.num_components]\n",
    "        self.eigenvalues = eigenvalues_sorted[0:self.num_components]\n",
    "        \n",
    "        #project our data\n",
    "        self.projected = np.dot(self.new_data,self.eigenvectors.transpose())\n",
    "        return self.projected\n",
    "    \n",
    "    def my_var(self):\n",
    "        # return the variance\n",
    "        self.variance = np.var(self.projected, axis=0)\n",
    "        return f'Variance Explained: {list(self.variance)}'\n",
    "    \n",
    "    def my_pct_var(self):\n",
    "        # return the percent variance explained by each PC by finding percent of total eigenvalues\n",
    "        total_eigenvalues = sum(self.eigenvalues)\n",
    "        pct_variance = []\n",
    "        for i in self.eigenvalues:\n",
    "            pctVar = (i/total_eigenvalues)*100\n",
    "            pct_variance.append(pctVar)\n",
    "            \n",
    "        self.pcnt_var = pct_variance           \n",
    "        return f'Percent Variance Explained: {pct_variance}'\n",
    "    \n",
    "    def my_scores(self):\n",
    "        # return the scores, which is the data projected onto the principle components\n",
    "        return self.projected\n",
    "    \n",
    "    def my_loadings(self):\n",
    "        # return the loadings, which is the eigenvectors\n",
    "        return self.eigenvectors"
   ]
  },
  {
   "cell_type": "code",
   "execution_count": 13,
   "id": "46a436a2",
   "metadata": {},
   "outputs": [],
   "source": [
    "#read in the dataset\n",
    "data3 = pd.read_csv('linear_regression_test_data.csv',index_col = 0)\n",
    "data3_pca = data3[['x','y']]\n",
    "data3_pca = data3_pca.to_numpy()\n",
    "\n",
    "data3 = data3.to_numpy()"
   ]
  },
  {
   "cell_type": "code",
   "execution_count": 65,
   "id": "ff98610e",
   "metadata": {},
   "outputs": [
    {
     "data": {
      "text/plain": [
       "array([[0.43814047, 0.89890652]])"
      ]
     },
     "execution_count": 65,
     "metadata": {},
     "output_type": "execute_result"
    }
   ],
   "source": [
    "# call pca class for just one principal component\n",
    "\n",
    "pca = myPCA(data3_pca,1)\n",
    "pcafit = pca.my_fit()\n",
    "projected = pca.my_transform()\n",
    "pctVar = pca.my_pct_var()\n",
    "var = pca.my_var()\n",
    "loadings = pca.my_loadings()\n",
    "scores = pca.my_scores()\n"
   ]
  },
  {
   "cell_type": "markdown",
   "id": "3c688391",
   "metadata": {},
   "source": [
    "(a) (20 points) The data in linear regression test data.csv contains x, y, and y−theoretical.\n",
    "Perform PCA on x and y using your own PCA class. Plot y vs x, y-theoretical vs x, and the PC1\n",
    "axis in the same plot."
   ]
  },
  {
   "cell_type": "code",
   "execution_count": 96,
   "id": "04762ab0",
   "metadata": {},
   "outputs": [
    {
     "data": {
      "image/png": "[encoded data removed]",
      "text/plain": [
       "<Figure size 640x480 with 1 Axes>"
      ]
     },
     "metadata": {},
     "output_type": "display_data"
    }
   ],
   "source": [
    "# plotting the data projected on PC1\n",
    "\n",
    "plt.figure()\n",
    "\n",
    "plt.scatter(data3[:,0], data3[:,1], color = 'pink', label='X v Y', s=50)\n",
    "plt.scatter(data3[:,0], data3[:,2], color = 'aquamarine', label='X v Y_theoretical', s=50)\n",
    "plt.plot([0, -5*loadings[0,0]], [0, -5*loadings[0, 1]], color='blue', linewidth=2, linestyle='dashed')\n",
    "plt.plot([0, 5*loadings[0,0]], [0, 5*loadings[0, 1]], color='blue', linewidth=2, label='PC', linestyle='dashed')\n",
    "\n",
    "plt.xlabel('x')\n",
    "plt.ylabel('y')\n",
    "plt.title('X v Y, X v Y-theoretical, PC1, SLR')\n",
    "\n",
    "plt.legend()\n",
    "plt.xlim([-3, 3])  \n",
    "plt.ylim([-4.5, 4]) \n",
    "plt.show()\n"
   ]
  },
  {
   "cell_type": "markdown",
   "id": "a27aa9a5",
   "metadata": {},
   "source": [
    "(b) (30 points) Perform linear regression on x and y with x being the independent variable and y\n",
    "being the dependent variable. Plot the regression line in the same plot as you obtained in (1).\n",
    "Compare the PC1 axis and the regression line obtained above. Are they very different or very\n",
    "similar? Could you explain why this happens?"
   ]
  },
  {
   "cell_type": "code",
   "execution_count": 97,
   "id": "7d1dc4b3",
   "metadata": {},
   "outputs": [
    {
     "data": {
      "image/png": "[encoded data removed]",
      "text/plain": [
       "<Figure size 640x480 with 1 Axes>"
      ]
     },
     "metadata": {},
     "output_type": "display_data"
    }
   ],
   "source": [
    "# plotting linear regression\n",
    "\n",
    "plt.figure()\n",
    "\n",
    "plt.scatter(data3[:,0], data3[:,1], color = 'pink', label='X v Y', s=50)\n",
    "plt.scatter(data3[:,0], data3[:,2], color = 'aquamarine', label='X v Y_theoretical', s=50)\n",
    "plt.plot([0, -5*loadings[0,0]], [0, -5*loadings[0, 1]], color='blue', linewidth=2, linestyle='dashed')\n",
    "plt.plot([0, 5*loadings[0,0]], [0, 5*loadings[0, 1]], color='blue', linewidth=2, label='PC', linestyle='dashed')\n",
    "plt.axline((0, test.b0hat), slope=test.b1hat, color='red', linewidth=2, label='SLR', linestyle='dotted')\n",
    "\n",
    "plt.xlabel('x')\n",
    "plt.ylabel('y')\n",
    "plt.title('X v Y, X v Y-theoretical, PC1, SLR')\n",
    "\n",
    "plt.legend()\n",
    "plt.xlim([-3, 3])  \n",
    "plt.ylim([-4.5, 4]) \n",
    "plt.show()\n"
   ]
  },
  {
   "cell_type": "markdown",
   "id": "de8c473b",
   "metadata": {},
   "source": [
    "The PC1 axis and regression line are very similar. PCA finds the line with the least orthongal distance from the points with respect to the model line and linear regression finds the line with the least distance with respect to the axis. Since both are finding lines of fit with the same data, it follows the lines would be similar, but because they are using different frameworks they have the noticable differences."
   ]
  }
 ],
 "metadata": {
  "kernelspec": {
   "display_name": "Python 3 (ipykernel)",
   "language": "python",
   "name": "python3"
  },
  "language_info": {
   "codemirror_mode": {
    "name": "ipython",
    "version": 3
   },
   "file_extension": ".py",
   "mimetype": "text/x-python",
   "name": "python",
   "nbconvert_exporter": "python",
   "pygments_lexer": "ipython3",
   "version": "3.9.13"
  }
 },
 "nbformat": 4,
 "nbformat_minor": 5
}
